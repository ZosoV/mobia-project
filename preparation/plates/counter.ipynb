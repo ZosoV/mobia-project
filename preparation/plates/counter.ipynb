{
 "cells": [
  {
   "cell_type": "markdown",
   "id": "eb1ff79f-970b-4c64-a620-9ac90287fd06",
   "metadata": {},
   "source": [
    "# Character counter"
   ]
  },
  {
   "cell_type": "markdown",
   "id": "e65e470b-7061-4067-86f3-78b9b6638a2d",
   "metadata": {},
   "source": [
    "## TODO\n",
    "Discard excess license plates for balancing and splitting of the data set into training, testing and validation."
   ]
  },
  {
   "cell_type": "markdown",
   "id": "2df88c5b-85a3-4afc-8e90-627d4938d2fc",
   "metadata": {},
   "source": [
    "### Libraries"
   ]
  },
  {
   "cell_type": "code",
   "execution_count": 64,
   "id": "7e98b598-6e4e-434c-82f4-ca3dcc869569",
   "metadata": {},
   "outputs": [],
   "source": [
    "import glob\n",
    "import matplotlib.pyplot as plt\n",
    "from matplotlib.ticker import MaxNLocator\n",
    "from collections import Counter"
   ]
  },
  {
   "cell_type": "markdown",
   "id": "5217e948-25d5-4b03-b33b-a78c0b069e1e",
   "metadata": {},
   "source": [
    "## Character Counter Function\n",
    "\n",
    "This function takes a path where is located the dataset and show a histogram about the repetion of all characters in license plates in such dataset."
   ]
  },
  {
   "cell_type": "code",
   "execution_count": 65,
   "id": "97d5e9d9-d2e5-425f-999f-910531306a83",
   "metadata": {},
   "outputs": [],
   "source": [
    "def char_counter(path):\n",
    "    # Load all file names using `path` variable.\n",
    "    folder = glob.glob(f\"{path}/*.txt\")\n",
    "    \n",
    "    # Create the global dictionary to count the characters.\n",
    "    total_counter = {}\n",
    "    upper = \"ABCDEFGHIJKLMNOPQRSTUVWXYZ\"\n",
    "    for i in upper:\n",
    "        total_counter[i] = 0\n",
    "    for i in range(10):\n",
    "        total_counter[str(i)] = 0\n",
    "        \n",
    "    # Start to count!\n",
    "    for file in folder:\n",
    "        with open(f\"{file}\", \"r\") as f:\n",
    "            counts = Counter(f.read())\n",
    "        for character,repetition in counts.items():\n",
    "                total_counter[character] += repetition\n",
    "                \n",
    "    # Plot the results.\n",
    "    # for character,n in total_counter.items():\n",
    "    #     print(f\"{character} has {n} repetitions!\")\n",
    "    \n",
    "    plt.bar(total_counter.keys(),\n",
    "            total_counter.values(),\n",
    "            width=0.8,\n",
    "            color=\"purple\")\n",
    "    plt.title(\"Character Counter\")\n",
    "    plt.xlabel(\"Character\")\n",
    "    plt.ylabel(\"Repetitions\")\n",
    "    plt.show()"
   ]
  },
  {
   "cell_type": "code",
   "execution_count": 66,
   "id": "fbf9d585-f899-48a4-bce2-b2c7e6451d26",
   "metadata": {},
   "outputs": [
    {
     "data": {
      "image/png": "[encoded data removed]",
      "text/plain": [
       "<Figure size 640x480 with 1 Axes>"
      ]
     },
     "metadata": {},
     "output_type": "display_data"
    }
   ],
   "source": [
    "char_counter(\"crops\")"
   ]
  },
  {
   "cell_type": "markdown",
   "id": "beaf0939-49d8-4834-8091-2d564dd5856a",
   "metadata": {},
   "source": [
    "## Unique Plates Function\n",
    "\n",
    "This function takes a path to the dataset and returns information on how many unique plates there are and their percentage."
   ]
  },
  {
   "cell_type": "code",
   "execution_count": 94,
   "id": "6eaa3fbd-7e60-4aab-a64e-446ae0d606a9",
   "metadata": {},
   "outputs": [],
   "source": [
    "def unique_plates(path):\n",
    "    # Load all file names using `path` variable.\n",
    "    folder = glob.glob(f\"{path}/*.txt\")\n",
    "    \n",
    "    # Create a global list to save the license plate information.\n",
    "    plates = []\n",
    "    \n",
    "    # Read and save the license plate information.\n",
    "    for file in folder:\n",
    "        with open(f\"{file}\", \"r\") as f:\n",
    "            inst_value = f.read()\n",
    "            #if not inst_value in plates:\n",
    "            plates.append(inst_value)\n",
    "                \n",
    "    # Print how many different license plates there are\n",
    "    print(f\"There are {len(set(plates))} unique plates out of a total of {len(folder)}.\")\n",
    "    print(f\"{int(len(set(plates))/len(folder)*100)}% of unique plates.\")\n",
    "    print(set(plates))"
   ]
  },
  {
   "cell_type": "code",
   "execution_count": 95,
   "id": "dddfc4f9-13de-4beb-9907-d4deb3cf6d6a",
   "metadata": {},
   "outputs": [
    {
     "name": "stdout",
     "output_type": "stream",
     "text": [
      "There are 3 unique plates out of a total of 3.\n",
      "100% of unique plates.\n",
      "{'HELLO', 'WORLD', 'TITAN'}\n"
     ]
    }
   ],
   "source": [
    "unique_plates(\"crops\")"
   ]
  },
  {
   "cell_type": "markdown",
   "id": "3d9a5c55-dc67-4cf6-9820-712dc21e8ae5",
   "metadata": {
    "tags": []
   },
   "source": [
    "## Balancing Function\n",
    "\n",
    "This function takes as input a path and a threshold to determine if license plates need to be discarded and does so to balance the number of characters."
   ]
  },
  {
   "cell_type": "code",
   "execution_count": null,
   "id": "124b33e9-ed86-4b8a-a416-8289458d62d3",
   "metadata": {},
   "outputs": [],
   "source": [
    "def balancing(path, threshold):\n",
    "    "
   ]
  }
 ],
 "metadata": {
  "kernelspec": {
   "display_name": "mobia",
   "language": "python",
   "name": "mobia"
  },
  "language_info": {
   "codemirror_mode": {
    "name": "ipython",
    "version": 3
   },
   "file_extension": ".py",
   "mimetype": "text/x-python",
   "name": "python",
   "nbconvert_exporter": "python",
   "pygments_lexer": "ipython3",
   "version": "3.7.13"
  }
 },
 "nbformat": 4,
 "nbformat_minor": 5
}
