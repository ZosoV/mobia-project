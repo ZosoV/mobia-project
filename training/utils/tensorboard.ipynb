{
 "cells": [
  {
   "cell_type": "markdown",
   "id": "c047fbf8-1f46-43a7-8897-a9a1fd5c2b64",
   "metadata": {},
   "source": [
    "# Accessing TensorBoard Data as DataFrames\n",
    "\n",
    "## Overview\n",
    "\n",
    "The main feature of TensorBoard is its interactive GUI. However, users sometimes want to **programmatically** read the data logs stored in TensorBoard, for purposes such as performing post-hoc analyses and creating custom visualizations of the log data.\n",
    "\n",
    "TensorBoard 2.3 supports this use case with `tensorboard.data.experimental.ExperimentFromDev()`. It allows programmatic access to TensorBoard's [scalar logs](https://www.tensorflow.org/tensorboard/scalars_and_keras). This page demonstrates the basic usage of this new API."
   ]
  },
  {
   "cell_type": "markdown",
   "id": "99ff42b4-0e27-459a-9491-adf83bd70e60",
   "metadata": {},
   "source": [
    "## Setup\n",
    "\n",
    "In order to use the programmatic API, make sure you install `pandas` alongside `tensorboard`.\n",
    "\n",
    "We'll use `matplotlib` and `seaborn` for custom plots in this guide, but you can choose your preferred tool to analyze and visualize `DataFrames`."
   ]
  },
  {
   "cell_type": "code",
   "execution_count": 1,
   "id": "fd946b0c-7d5f-40da-9c40-628580cf2800",
   "metadata": {
    "collapsed": true,
    "jupyter": {
     "outputs_hidden": true
    },
    "tags": []
   },
   "outputs": [
    {
     "name": "stdout",
     "output_type": "stream",
     "text": [
      "Looking in indexes: https://pypi.org/simple, https://pypi.ngc.nvidia.com\n",
      "Requirement already satisfied: tensorboard in /home/pepeleduin/anaconda3/envs/mobia/lib/python3.7/site-packages (2.8.0)\n",
      "Collecting pandas\n",
      "  Downloading pandas-1.3.5-cp37-cp37m-manylinux_2_17_x86_64.manylinux2014_x86_64.whl (11.3 MB)\n",
      "\u001b[2K     \u001b[38;2;114;156;31m━━━━━━━━━━━━━━━━━━━━━━━━━━━━━━━━━━━━━━━\u001b[0m \u001b[32m11.3/11.3 MB\u001b[0m \u001b[31m710.0 kB/s\u001b[0m eta \u001b[36m0:00:00\u001b[0mm eta \u001b[36m0:00:01\u001b[0m[36m0:00:01\u001b[0m\n",
      "\u001b[?25hRequirement already satisfied: tensorboard-plugin-wit>=1.6.0 in /home/pepeleduin/anaconda3/envs/mobia/lib/python3.7/site-packages (from tensorboard) (1.8.1)\n",
      "Requirement already satisfied: tensorboard-data-server<0.7.0,>=0.6.0 in /home/pepeleduin/anaconda3/envs/mobia/lib/python3.7/site-packages (from tensorboard) (0.6.1)\n",
      "Requirement already satisfied: google-auth-oauthlib<0.5,>=0.4.1 in /home/pepeleduin/anaconda3/envs/mobia/lib/python3.7/site-packages (from tensorboard) (0.4.6)\n",
      "Requirement already satisfied: requests<3,>=2.21.0 in /home/pepeleduin/anaconda3/envs/mobia/lib/python3.7/site-packages (from tensorboard) (2.24.0)\n",
      "Requirement already satisfied: setuptools>=41.0.0 in /home/pepeleduin/anaconda3/envs/mobia/lib/python3.7/site-packages (from tensorboard) (62.0.0)\n",
      "Requirement already satisfied: protobuf>=3.6.0 in /home/pepeleduin/anaconda3/envs/mobia/lib/python3.7/site-packages (from tensorboard) (3.20.0)\n",
      "Requirement already satisfied: werkzeug>=0.11.15 in /home/pepeleduin/anaconda3/envs/mobia/lib/python3.7/site-packages (from tensorboard) (2.1.1)\n",
      "Requirement already satisfied: wheel>=0.26 in /home/pepeleduin/anaconda3/envs/mobia/lib/python3.7/site-packages (from tensorboard) (0.37.1)\n",
      "Requirement already satisfied: grpcio>=1.24.3 in /home/pepeleduin/anaconda3/envs/mobia/lib/python3.7/site-packages (from tensorboard) (1.44.0)\n",
      "Requirement already satisfied: numpy>=1.12.0 in /home/pepeleduin/anaconda3/envs/mobia/lib/python3.7/site-packages (from tensorboard) (1.17.0)\n",
      "Requirement already satisfied: absl-py>=0.4 in /home/pepeleduin/anaconda3/envs/mobia/lib/python3.7/site-packages (from tensorboard) (1.0.0)\n",
      "Requirement already satisfied: markdown>=2.6.8 in /home/pepeleduin/anaconda3/envs/mobia/lib/python3.7/site-packages (from tensorboard) (3.3.6)\n",
      "Requirement already satisfied: google-auth<3,>=1.6.3 in /home/pepeleduin/anaconda3/envs/mobia/lib/python3.7/site-packages (from tensorboard) (2.6.3)\n",
      "Requirement already satisfied: python-dateutil>=2.7.3 in /home/pepeleduin/anaconda3/envs/mobia/lib/python3.7/site-packages (from pandas) (2.8.2)\n",
      "Collecting numpy>=1.12.0\n",
      "  Downloading numpy-1.21.5-cp37-cp37m-manylinux_2_12_x86_64.manylinux2010_x86_64.whl (15.7 MB)\n",
      "\u001b[2K     \u001b[38;2;114;156;31m━━━━━━━━━━━━━━━━━━━━━━━━━━━━━━━━━━━━━━━━\u001b[0m \u001b[32m15.7/15.7 MB\u001b[0m \u001b[31m1.4 MB/s\u001b[0m eta \u001b[36m0:00:00\u001b[0mm eta \u001b[36m0:00:01\u001b[0m[36m0:00:01\u001b[0mm\n",
      "\u001b[?25hRequirement already satisfied: pytz>=2017.3 in /home/pepeleduin/anaconda3/envs/mobia/lib/python3.7/site-packages (from pandas) (2022.1)\n",
      "Requirement already satisfied: six in /home/pepeleduin/anaconda3/envs/mobia/lib/python3.7/site-packages (from absl-py>=0.4->tensorboard) (1.15.0)\n",
      "Requirement already satisfied: cachetools<6.0,>=2.0.0 in /home/pepeleduin/anaconda3/envs/mobia/lib/python3.7/site-packages (from google-auth<3,>=1.6.3->tensorboard) (5.0.0)\n",
      "Requirement already satisfied: pyasn1-modules>=0.2.1 in /home/pepeleduin/anaconda3/envs/mobia/lib/python3.7/site-packages (from google-auth<3,>=1.6.3->tensorboard) (0.2.8)\n",
      "Requirement already satisfied: rsa<5,>=3.1.4 in /home/pepeleduin/anaconda3/envs/mobia/lib/python3.7/site-packages (from google-auth<3,>=1.6.3->tensorboard) (4.8)\n",
      "Requirement already satisfied: requests-oauthlib>=0.7.0 in /home/pepeleduin/anaconda3/envs/mobia/lib/python3.7/site-packages (from google-auth-oauthlib<0.5,>=0.4.1->tensorboard) (1.3.1)\n",
      "Requirement already satisfied: importlib-metadata>=4.4 in /home/pepeleduin/anaconda3/envs/mobia/lib/python3.7/site-packages (from markdown>=2.6.8->tensorboard) (4.11.3)\n",
      "Requirement already satisfied: idna<3,>=2.5 in /home/pepeleduin/anaconda3/envs/mobia/lib/python3.7/site-packages (from requests<3,>=2.21.0->tensorboard) (2.10)\n",
      "Requirement already satisfied: urllib3!=1.25.0,!=1.25.1,<1.26,>=1.21.1 in /home/pepeleduin/anaconda3/envs/mobia/lib/python3.7/site-packages (from requests<3,>=2.21.0->tensorboard) (1.25.10)\n",
      "Requirement already satisfied: chardet<4,>=3.0.2 in /home/pepeleduin/anaconda3/envs/mobia/lib/python3.7/site-packages (from requests<3,>=2.21.0->tensorboard) (3.0.4)\n",
      "Requirement already satisfied: certifi>=2017.4.17 in /home/pepeleduin/anaconda3/envs/mobia/lib/python3.7/site-packages (from requests<3,>=2.21.0->tensorboard) (2020.6.20)\n",
      "Requirement already satisfied: zipp>=0.5 in /home/pepeleduin/anaconda3/envs/mobia/lib/python3.7/site-packages (from importlib-metadata>=4.4->markdown>=2.6.8->tensorboard) (3.7.0)\n",
      "Requirement already satisfied: typing-extensions>=3.6.4 in /home/pepeleduin/anaconda3/envs/mobia/lib/python3.7/site-packages (from importlib-metadata>=4.4->markdown>=2.6.8->tensorboard) (4.1.1)\n",
      "Requirement already satisfied: pyasn1<0.5.0,>=0.4.6 in /home/pepeleduin/anaconda3/envs/mobia/lib/python3.7/site-packages (from pyasn1-modules>=0.2.1->google-auth<3,>=1.6.3->tensorboard) (0.4.8)\n",
      "Requirement already satisfied: oauthlib>=3.0.0 in /home/pepeleduin/anaconda3/envs/mobia/lib/python3.7/site-packages (from requests-oauthlib>=0.7.0->google-auth-oauthlib<0.5,>=0.4.1->tensorboard) (3.2.0)\n",
      "Installing collected packages: numpy, pandas\n",
      "  Attempting uninstall: numpy\n",
      "    Found existing installation: numpy 1.17.0\n",
      "    Uninstalling numpy-1.17.0:\n",
      "      Successfully uninstalled numpy-1.17.0\n",
      "Successfully installed numpy-1.21.5 pandas-1.3.5\n",
      "Looking in indexes: https://pypi.org/simple, https://pypi.ngc.nvidia.com\n",
      "Requirement already satisfied: matplotlib in /home/pepeleduin/anaconda3/envs/mobia/lib/python3.7/site-packages (3.1.1)\n",
      "Collecting seaborn\n",
      "  Downloading seaborn-0.11.2-py3-none-any.whl (292 kB)\n",
      "\u001b[2K     \u001b[38;2;114;156;31m━━━━━━━━━━━━━━━━━━━━━━━━━━━━━━━━━━━━━\u001b[0m \u001b[32m292.8/292.8 KB\u001b[0m \u001b[31m347.8 kB/s\u001b[0m eta \u001b[36m0:00:00\u001b[0m1m255.6 kB/s\u001b[0m eta \u001b[36m0:00:01\u001b[0m\n",
      "\u001b[?25hRequirement already satisfied: kiwisolver>=1.0.1 in /home/pepeleduin/anaconda3/envs/mobia/lib/python3.7/site-packages (from matplotlib) (1.4.2)\n",
      "Requirement already satisfied: numpy>=1.11 in /home/pepeleduin/anaconda3/envs/mobia/lib/python3.7/site-packages (from matplotlib) (1.21.5)\n",
      "Requirement already satisfied: cycler>=0.10 in /home/pepeleduin/anaconda3/envs/mobia/lib/python3.7/site-packages (from matplotlib) (0.11.0)\n",
      "Requirement already satisfied: python-dateutil>=2.1 in /home/pepeleduin/anaconda3/envs/mobia/lib/python3.7/site-packages (from matplotlib) (2.8.2)\n",
      "Requirement already satisfied: pyparsing!=2.0.4,!=2.1.2,!=2.1.6,>=2.0.1 in /home/pepeleduin/anaconda3/envs/mobia/lib/python3.7/site-packages (from matplotlib) (3.0.4)\n",
      "Requirement already satisfied: scipy>=1.0 in /home/pepeleduin/anaconda3/envs/mobia/lib/python3.7/site-packages (from seaborn) (1.5.4)\n",
      "Requirement already satisfied: pandas>=0.23 in /home/pepeleduin/anaconda3/envs/mobia/lib/python3.7/site-packages (from seaborn) (1.3.5)\n",
      "Requirement already satisfied: typing-extensions in /home/pepeleduin/anaconda3/envs/mobia/lib/python3.7/site-packages (from kiwisolver>=1.0.1->matplotlib) (4.1.1)\n",
      "Requirement already satisfied: pytz>=2017.3 in /home/pepeleduin/anaconda3/envs/mobia/lib/python3.7/site-packages (from pandas>=0.23->seaborn) (2022.1)\n",
      "Requirement already satisfied: six>=1.5 in /home/pepeleduin/anaconda3/envs/mobia/lib/python3.7/site-packages (from python-dateutil>=2.1->matplotlib) (1.15.0)\n",
      "Installing collected packages: seaborn\n",
      "Successfully installed seaborn-0.11.2\n"
     ]
    }
   ],
   "source": [
    "!pip install tensorboard pandas\n",
    "!pip install matplotlib seaborn"
   ]
  },
  {
   "cell_type": "code",
   "execution_count": 2,
   "id": "e64ca0d9-2ed2-4e78-9ec5-02d70870f050",
   "metadata": {},
   "outputs": [],
   "source": [
    "from packaging import version\n",
    "\n",
    "import pandas as pd\n",
    "import seaborn as sns\n",
    "import tensorboard as tb\n",
    "from matplotlib import pyplot as plt\n",
    "from scipy import stats\n"
   ]
  },
  {
   "cell_type": "code",
   "execution_count": 3,
   "id": "17295467-0628-4dc4-bd93-512abd6bebff",
   "metadata": {},
   "outputs": [
    {
     "name": "stdout",
     "output_type": "stream",
     "text": [
      "TensorBoard version:  2.8.0\n"
     ]
    }
   ],
   "source": [
    "major_ver, minor_ver, _ = version.parse(tb.__version__).release\n",
    "assert major_ver >= 2 and minor_ver >= 3, \\\n",
    "    \"This notebook requires TensorBoard 2.3 or later.\"\n",
    "print(\"TensorBoard version: \", tb.__version__)\n"
   ]
  },
  {
   "cell_type": "markdown",
   "id": "f09131d4-2e8a-4b0e-aa14-f4e34dc05b6b",
   "metadata": {
    "tags": []
   },
   "source": [
    "## Loading TensorBoard scalars as a pandas.DataFrame\n",
    "\n",
    "Once a TensorBoard logdir has been uploaded to [TensorBoard.dev](https://blog.tensorflow.org/2019/12/introducing-tensorboarddev-new-way-to.html?hl=es-419), it becomes what we refer to as an *experiment*. Each experiment has a unique ID, which can be found in the TensorBoard.dev URL of the experiment. For our demonstration below, we will use a TensorBoard.dev experiment at: https://tensorboard.dev/experiment/gKBxh0ndQvqyLjQgBWvgkA/"
   ]
  },
  {
   "cell_type": "code",
   "execution_count": 17,
   "id": "a90ada01-28a0-4491-a90c-8dd1b5472db9",
   "metadata": {},
   "outputs": [
    {
     "data": {
      "text/html": [
       "<div>\n",
       "<style scoped>\n",
       "    .dataframe tbody tr th:only-of-type {\n",
       "        vertical-align: middle;\n",
       "    }\n",
       "\n",
       "    .dataframe tbody tr th {\n",
       "        vertical-align: top;\n",
       "    }\n",
       "\n",
       "    .dataframe thead th {\n",
       "        text-align: right;\n",
       "    }\n",
       "</style>\n",
       "<table border=\"1\" class=\"dataframe\">\n",
       "  <thead>\n",
       "    <tr style=\"text-align: right;\">\n",
       "      <th></th>\n",
       "      <th>run</th>\n",
       "      <th>tag</th>\n",
       "      <th>step</th>\n",
       "      <th>value</th>\n",
       "    </tr>\n",
       "  </thead>\n",
       "  <tbody>\n",
       "    <tr>\n",
       "      <th>0</th>\n",
       "      <td>.</td>\n",
       "      <td>global_step/sec</td>\n",
       "      <td>5</td>\n",
       "      <td>1.028818</td>\n",
       "    </tr>\n",
       "    <tr>\n",
       "      <th>1</th>\n",
       "      <td>.</td>\n",
       "      <td>global_step/sec</td>\n",
       "      <td>9</td>\n",
       "      <td>1.710624</td>\n",
       "    </tr>\n",
       "    <tr>\n",
       "      <th>2</th>\n",
       "      <td>.</td>\n",
       "      <td>global_step/sec</td>\n",
       "      <td>13</td>\n",
       "      <td>1.604946</td>\n",
       "    </tr>\n",
       "    <tr>\n",
       "      <th>3</th>\n",
       "      <td>.</td>\n",
       "      <td>global_step/sec</td>\n",
       "      <td>17</td>\n",
       "      <td>1.670286</td>\n",
       "    </tr>\n",
       "    <tr>\n",
       "      <th>4</th>\n",
       "      <td>.</td>\n",
       "      <td>global_step/sec</td>\n",
       "      <td>21</td>\n",
       "      <td>1.621521</td>\n",
       "    </tr>\n",
       "    <tr>\n",
       "      <th>...</th>\n",
       "      <td>...</td>\n",
       "      <td>...</td>\n",
       "      <td>...</td>\n",
       "      <td>...</td>\n",
       "    </tr>\n",
       "    <tr>\n",
       "      <th>86</th>\n",
       "      <td>.</td>\n",
       "      <td>total_cost</td>\n",
       "      <td>73</td>\n",
       "      <td>0.000113</td>\n",
       "    </tr>\n",
       "    <tr>\n",
       "      <th>87</th>\n",
       "      <td>.</td>\n",
       "      <td>total_cost</td>\n",
       "      <td>77</td>\n",
       "      <td>0.000093</td>\n",
       "    </tr>\n",
       "    <tr>\n",
       "      <th>88</th>\n",
       "      <td>.</td>\n",
       "      <td>total_cost</td>\n",
       "      <td>81</td>\n",
       "      <td>0.000254</td>\n",
       "    </tr>\n",
       "    <tr>\n",
       "      <th>89</th>\n",
       "      <td>.</td>\n",
       "      <td>total_cost</td>\n",
       "      <td>85</td>\n",
       "      <td>0.000160</td>\n",
       "    </tr>\n",
       "    <tr>\n",
       "      <th>90</th>\n",
       "      <td>.</td>\n",
       "      <td>total_cost</td>\n",
       "      <td>89</td>\n",
       "      <td>0.000130</td>\n",
       "    </tr>\n",
       "  </tbody>\n",
       "</table>\n",
       "<p>91 rows × 4 columns</p>\n",
       "</div>"
      ],
      "text/plain": [
       "   run              tag  step     value\n",
       "0    .  global_step/sec     5  1.028818\n",
       "1    .  global_step/sec     9  1.710624\n",
       "2    .  global_step/sec    13  1.604946\n",
       "3    .  global_step/sec    17  1.670286\n",
       "4    .  global_step/sec    21  1.621521\n",
       "..  ..              ...   ...       ...\n",
       "86   .       total_cost    73  0.000113\n",
       "87   .       total_cost    77  0.000093\n",
       "88   .       total_cost    81  0.000254\n",
       "89   .       total_cost    85  0.000160\n",
       "90   .       total_cost    89  0.000130\n",
       "\n",
       "[91 rows x 4 columns]"
      ]
     },
     "execution_count": 17,
     "metadata": {},
     "output_type": "execute_result"
    }
   ],
   "source": [
    "experiment_id = \"gKBxh0ndQvqyLjQgBWvgkA\"\n",
    "experiment = tb.data.experimental.ExperimentFromDev(experiment_id)\n",
    "df = experiment.get_scalars()\n",
    "df\n"
   ]
  },
  {
   "cell_type": "markdown",
   "id": "92246b2b-e712-4952-bcce-a6a81ebb25df",
   "metadata": {},
   "source": [
    "`df` is a [`pandas.DataFrame`](https://pandas.pydata.org/pandas-docs/stable/reference/api/pandas.DataFrame.html) that contains all scalar logs of the experiment.\n",
    "\n",
    "The columns of the `DataFrame` are:\n",
    "\n",
    "* `run`: each run corresponds to a subdirectory of the original logdir.\n",
    "\n",
    "* `tag`: this describes what the `value` in the same row means, that is, what metric the value represents in the row. In this experiment, we have four tags:\n",
    "    * `global_step/sec` is the iteration (so global_step 50 means we're processing the 50th batch) by seconds.\n",
    "    * `regularization_cost` \n",
    "    * `task_cost`\n",
    "    * `total_cost`\n",
    "\n",
    "\n",
    "* `step`: This is a number that reflects the serial order of the corresponding row in its run. Here `step` actually refers to epoch number. If you wish to obtain the timestamps in addition to the `step` values, you can use the keyword argument `include_wall_time=True` when calling `get_scalars()`.\n",
    "\n",
    "* `value`: This is the actual numerical value of interest. As described above, each `value` in this particular `DataFrame` is either a loss or an accuracy, depending on the `tag` of the row.\n"
   ]
  },
  {
   "cell_type": "code",
   "execution_count": 19,
   "id": "0d40f939-d2b8-4d02-997e-1215d1248ad7",
   "metadata": {},
   "outputs": [
    {
     "name": "stdout",
     "output_type": "stream",
     "text": [
      "['global_step/sec' 'regularization_cost' 'task_cost' 'total_cost']\n"
     ]
    }
   ],
   "source": [
    "print(df[\"tag\"].unique())\n"
   ]
  },
  {
   "cell_type": "markdown",
   "id": "540ec089-ac34-4754-ad54-24d5e49be2e6",
   "metadata": {},
   "source": [
    "## Saving the DataFrame as CSV\n",
    "\n",
    "`pandas.DataFrame` has good interoperability with [CSV](https://en.wikipedia.org/wiki/Comma-separated_values). You can store it as a local CSV file and load it back later. For example:"
   ]
  },
  {
   "cell_type": "code",
   "execution_count": 22,
   "id": "e1997acd-e240-44ac-9233-a779b876c52a",
   "metadata": {},
   "outputs": [],
   "source": [
    "csv_path = '/tmp/tb_experiment_1.csv'\n",
    "df.to_csv(csv_path, index=False)\n",
    "df_roundtrip = pd.read_csv(csv_path)\n",
    "pd.testing.assert_frame_equal(df_roundtrip, df)\n"
   ]
  },
  {
   "cell_type": "markdown",
   "id": "a462c51e-0814-46e9-9274-78635f5f8633",
   "metadata": {},
   "source": [
    "## Performing custom visualization and statistical analysis"
   ]
  },
  {
   "cell_type": "code",
   "execution_count": 26,
   "id": "248d0f7e-a359-454d-afc4-51de65bc3c5d",
   "metadata": {},
   "outputs": [
    {
     "ename": "ValueError",
     "evalue": "Could not interpret value `global_step/sec` for parameter `y`",
     "output_type": "error",
     "traceback": [
      "\u001b[0;31m---------------------------------------------------------------------------\u001b[0m",
      "\u001b[0;31mValueError\u001b[0m                                Traceback (most recent call last)",
      "\u001b[0;32m<ipython-input-26-fc7108fbe408>\u001b[0m in \u001b[0;36m<module>\u001b[0;34m\u001b[0m\n\u001b[1;32m      8\u001b[0m \u001b[0mplt\u001b[0m\u001b[0;34m.\u001b[0m\u001b[0msubplot\u001b[0m\u001b[0;34m(\u001b[0m\u001b[0;36m1\u001b[0m\u001b[0;34m,\u001b[0m \u001b[0;36m2\u001b[0m\u001b[0;34m,\u001b[0m \u001b[0;36m1\u001b[0m\u001b[0;34m)\u001b[0m\u001b[0;34m\u001b[0m\u001b[0;34m\u001b[0m\u001b[0m\n\u001b[1;32m      9\u001b[0m sns.lineplot(data=df_validation, x=\"step\", y=\"global_step/sec\",\n\u001b[0;32m---> 10\u001b[0;31m              hue=optimizer_validation).set_title(\"global_step/sec\")\n\u001b[0m\u001b[1;32m     11\u001b[0m \u001b[0mplt\u001b[0m\u001b[0;34m.\u001b[0m\u001b[0msubplot\u001b[0m\u001b[0;34m(\u001b[0m\u001b[0;36m1\u001b[0m\u001b[0;34m,\u001b[0m \u001b[0;36m2\u001b[0m\u001b[0;34m,\u001b[0m \u001b[0;36m2\u001b[0m\u001b[0;34m)\u001b[0m\u001b[0;34m\u001b[0m\u001b[0;34m\u001b[0m\u001b[0m\n\u001b[1;32m     12\u001b[0m sns.lineplot(data=df_validation, x=\"step\", y=\"regularization_cost\",\n",
      "\u001b[0;32m~/anaconda3/envs/mobia/lib/python3.7/site-packages/seaborn/_decorators.py\u001b[0m in \u001b[0;36minner_f\u001b[0;34m(*args, **kwargs)\u001b[0m\n\u001b[1;32m     44\u001b[0m             )\n\u001b[1;32m     45\u001b[0m         \u001b[0mkwargs\u001b[0m\u001b[0;34m.\u001b[0m\u001b[0mupdate\u001b[0m\u001b[0;34m(\u001b[0m\u001b[0;34m{\u001b[0m\u001b[0mk\u001b[0m\u001b[0;34m:\u001b[0m \u001b[0marg\u001b[0m \u001b[0;32mfor\u001b[0m \u001b[0mk\u001b[0m\u001b[0;34m,\u001b[0m \u001b[0marg\u001b[0m \u001b[0;32min\u001b[0m \u001b[0mzip\u001b[0m\u001b[0;34m(\u001b[0m\u001b[0msig\u001b[0m\u001b[0;34m.\u001b[0m\u001b[0mparameters\u001b[0m\u001b[0;34m,\u001b[0m \u001b[0margs\u001b[0m\u001b[0;34m)\u001b[0m\u001b[0;34m}\u001b[0m\u001b[0;34m)\u001b[0m\u001b[0;34m\u001b[0m\u001b[0;34m\u001b[0m\u001b[0m\n\u001b[0;32m---> 46\u001b[0;31m         \u001b[0;32mreturn\u001b[0m \u001b[0mf\u001b[0m\u001b[0;34m(\u001b[0m\u001b[0;34m**\u001b[0m\u001b[0mkwargs\u001b[0m\u001b[0;34m)\u001b[0m\u001b[0;34m\u001b[0m\u001b[0;34m\u001b[0m\u001b[0m\n\u001b[0m\u001b[1;32m     47\u001b[0m     \u001b[0;32mreturn\u001b[0m \u001b[0minner_f\u001b[0m\u001b[0;34m\u001b[0m\u001b[0;34m\u001b[0m\u001b[0m\n\u001b[1;32m     48\u001b[0m \u001b[0;34m\u001b[0m\u001b[0m\n",
      "\u001b[0;32m~/anaconda3/envs/mobia/lib/python3.7/site-packages/seaborn/relational.py\u001b[0m in \u001b[0;36mlineplot\u001b[0;34m(x, y, hue, size, style, data, palette, hue_order, hue_norm, sizes, size_order, size_norm, dashes, markers, style_order, units, estimator, ci, n_boot, seed, sort, err_style, err_kws, legend, ax, **kwargs)\u001b[0m\n\u001b[1;32m    693\u001b[0m         \u001b[0mdata\u001b[0m\u001b[0;34m=\u001b[0m\u001b[0mdata\u001b[0m\u001b[0;34m,\u001b[0m \u001b[0mvariables\u001b[0m\u001b[0;34m=\u001b[0m\u001b[0mvariables\u001b[0m\u001b[0;34m,\u001b[0m\u001b[0;34m\u001b[0m\u001b[0;34m\u001b[0m\u001b[0m\n\u001b[1;32m    694\u001b[0m         \u001b[0mestimator\u001b[0m\u001b[0;34m=\u001b[0m\u001b[0mestimator\u001b[0m\u001b[0;34m,\u001b[0m \u001b[0mci\u001b[0m\u001b[0;34m=\u001b[0m\u001b[0mci\u001b[0m\u001b[0;34m,\u001b[0m \u001b[0mn_boot\u001b[0m\u001b[0;34m=\u001b[0m\u001b[0mn_boot\u001b[0m\u001b[0;34m,\u001b[0m \u001b[0mseed\u001b[0m\u001b[0;34m=\u001b[0m\u001b[0mseed\u001b[0m\u001b[0;34m,\u001b[0m\u001b[0;34m\u001b[0m\u001b[0;34m\u001b[0m\u001b[0m\n\u001b[0;32m--> 695\u001b[0;31m         \u001b[0msort\u001b[0m\u001b[0;34m=\u001b[0m\u001b[0msort\u001b[0m\u001b[0;34m,\u001b[0m \u001b[0merr_style\u001b[0m\u001b[0;34m=\u001b[0m\u001b[0merr_style\u001b[0m\u001b[0;34m,\u001b[0m \u001b[0merr_kws\u001b[0m\u001b[0;34m=\u001b[0m\u001b[0merr_kws\u001b[0m\u001b[0;34m,\u001b[0m \u001b[0mlegend\u001b[0m\u001b[0;34m=\u001b[0m\u001b[0mlegend\u001b[0m\u001b[0;34m,\u001b[0m\u001b[0;34m\u001b[0m\u001b[0;34m\u001b[0m\u001b[0m\n\u001b[0m\u001b[1;32m    696\u001b[0m     )\n\u001b[1;32m    697\u001b[0m \u001b[0;34m\u001b[0m\u001b[0m\n",
      "\u001b[0;32m~/anaconda3/envs/mobia/lib/python3.7/site-packages/seaborn/relational.py\u001b[0m in \u001b[0;36m__init__\u001b[0;34m(self, data, variables, estimator, ci, n_boot, seed, sort, err_style, err_kws, legend)\u001b[0m\n\u001b[1;32m    365\u001b[0m         )\n\u001b[1;32m    366\u001b[0m \u001b[0;34m\u001b[0m\u001b[0m\n\u001b[0;32m--> 367\u001b[0;31m         \u001b[0msuper\u001b[0m\u001b[0;34m(\u001b[0m\u001b[0;34m)\u001b[0m\u001b[0;34m.\u001b[0m\u001b[0m__init__\u001b[0m\u001b[0;34m(\u001b[0m\u001b[0mdata\u001b[0m\u001b[0;34m=\u001b[0m\u001b[0mdata\u001b[0m\u001b[0;34m,\u001b[0m \u001b[0mvariables\u001b[0m\u001b[0;34m=\u001b[0m\u001b[0mvariables\u001b[0m\u001b[0;34m)\u001b[0m\u001b[0;34m\u001b[0m\u001b[0;34m\u001b[0m\u001b[0m\n\u001b[0m\u001b[1;32m    368\u001b[0m \u001b[0;34m\u001b[0m\u001b[0m\n\u001b[1;32m    369\u001b[0m         \u001b[0mself\u001b[0m\u001b[0;34m.\u001b[0m\u001b[0mestimator\u001b[0m \u001b[0;34m=\u001b[0m \u001b[0mestimator\u001b[0m\u001b[0;34m\u001b[0m\u001b[0;34m\u001b[0m\u001b[0m\n",
      "\u001b[0;32m~/anaconda3/envs/mobia/lib/python3.7/site-packages/seaborn/_core.py\u001b[0m in \u001b[0;36m__init__\u001b[0;34m(self, data, variables)\u001b[0m\n\u001b[1;32m    603\u001b[0m     \u001b[0;32mdef\u001b[0m \u001b[0m__init__\u001b[0m\u001b[0;34m(\u001b[0m\u001b[0mself\u001b[0m\u001b[0;34m,\u001b[0m \u001b[0mdata\u001b[0m\u001b[0;34m=\u001b[0m\u001b[0;32mNone\u001b[0m\u001b[0;34m,\u001b[0m \u001b[0mvariables\u001b[0m\u001b[0;34m=\u001b[0m\u001b[0;34m{\u001b[0m\u001b[0;34m}\u001b[0m\u001b[0;34m)\u001b[0m\u001b[0;34m:\u001b[0m\u001b[0;34m\u001b[0m\u001b[0;34m\u001b[0m\u001b[0m\n\u001b[1;32m    604\u001b[0m \u001b[0;34m\u001b[0m\u001b[0m\n\u001b[0;32m--> 605\u001b[0;31m         \u001b[0mself\u001b[0m\u001b[0;34m.\u001b[0m\u001b[0massign_variables\u001b[0m\u001b[0;34m(\u001b[0m\u001b[0mdata\u001b[0m\u001b[0;34m,\u001b[0m \u001b[0mvariables\u001b[0m\u001b[0;34m)\u001b[0m\u001b[0;34m\u001b[0m\u001b[0;34m\u001b[0m\u001b[0m\n\u001b[0m\u001b[1;32m    606\u001b[0m \u001b[0;34m\u001b[0m\u001b[0m\n\u001b[1;32m    607\u001b[0m         \u001b[0;32mfor\u001b[0m \u001b[0mvar\u001b[0m\u001b[0;34m,\u001b[0m \u001b[0mcls\u001b[0m \u001b[0;32min\u001b[0m \u001b[0mself\u001b[0m\u001b[0;34m.\u001b[0m\u001b[0m_semantic_mappings\u001b[0m\u001b[0;34m.\u001b[0m\u001b[0mitems\u001b[0m\u001b[0;34m(\u001b[0m\u001b[0;34m)\u001b[0m\u001b[0;34m:\u001b[0m\u001b[0;34m\u001b[0m\u001b[0;34m\u001b[0m\u001b[0m\n",
      "\u001b[0;32m~/anaconda3/envs/mobia/lib/python3.7/site-packages/seaborn/_core.py\u001b[0m in \u001b[0;36massign_variables\u001b[0;34m(self, data, variables)\u001b[0m\n\u001b[1;32m    667\u001b[0m             \u001b[0mself\u001b[0m\u001b[0;34m.\u001b[0m\u001b[0minput_format\u001b[0m \u001b[0;34m=\u001b[0m \u001b[0;34m\"long\"\u001b[0m\u001b[0;34m\u001b[0m\u001b[0;34m\u001b[0m\u001b[0m\n\u001b[1;32m    668\u001b[0m             plot_data, variables = self._assign_variables_longform(\n\u001b[0;32m--> 669\u001b[0;31m                 \u001b[0mdata\u001b[0m\u001b[0;34m,\u001b[0m \u001b[0;34m**\u001b[0m\u001b[0mvariables\u001b[0m\u001b[0;34m,\u001b[0m\u001b[0;34m\u001b[0m\u001b[0;34m\u001b[0m\u001b[0m\n\u001b[0m\u001b[1;32m    670\u001b[0m             )\n\u001b[1;32m    671\u001b[0m \u001b[0;34m\u001b[0m\u001b[0m\n",
      "\u001b[0;32m~/anaconda3/envs/mobia/lib/python3.7/site-packages/seaborn/_core.py\u001b[0m in \u001b[0;36m_assign_variables_longform\u001b[0;34m(self, data, **kwargs)\u001b[0m\n\u001b[1;32m    901\u001b[0m \u001b[0;34m\u001b[0m\u001b[0m\n\u001b[1;32m    902\u001b[0m                 \u001b[0merr\u001b[0m \u001b[0;34m=\u001b[0m \u001b[0;34mf\"Could not interpret value `{val}` for parameter `{key}`\"\u001b[0m\u001b[0;34m\u001b[0m\u001b[0;34m\u001b[0m\u001b[0m\n\u001b[0;32m--> 903\u001b[0;31m                 \u001b[0;32mraise\u001b[0m \u001b[0mValueError\u001b[0m\u001b[0;34m(\u001b[0m\u001b[0merr\u001b[0m\u001b[0;34m)\u001b[0m\u001b[0;34m\u001b[0m\u001b[0;34m\u001b[0m\u001b[0m\n\u001b[0m\u001b[1;32m    904\u001b[0m \u001b[0;34m\u001b[0m\u001b[0m\n\u001b[1;32m    905\u001b[0m             \u001b[0;32melse\u001b[0m\u001b[0;34m:\u001b[0m\u001b[0;34m\u001b[0m\u001b[0;34m\u001b[0m\u001b[0m\n",
      "\u001b[0;31mValueError\u001b[0m: Could not interpret value `global_step/sec` for parameter `y`"
     ]
    }
   ],
   "source": [
    "# Filter the DataFrame to only validation data, which is what the subsequent\n",
    "# analyses and visualization will be focused on.\n",
    "df_validation = df[df.run.str.endswith(\"/validation\")]\n",
    "# Get the optimizer value for each row of the validation DataFrame.\n",
    "optimizer_validation = df_validation.run.apply(lambda run: run.split(\",\")[0])\n",
    "\n",
    "plt.figure(figsize=(16, 6))\n",
    "plt.subplot(1, 2, 1)\n",
    "sns.lineplot(data=df_validation, x=\"step\", y=\"global_step/sec\",\n",
    "             hue=optimizer_validation).set_title(\"global_step/sec\")\n",
    "plt.subplot(1, 2, 2)\n",
    "sns.lineplot(data=df_validation, x=\"step\", y=\"regularization_cost\",\n",
    "             hue=optimizer_validation).set_title(\"regularization_cost\")\n",
    "plt.show()"
   ]
  },
  {
   "cell_type": "markdown",
   "id": "23dc6f29-f879-4954-b6e2-c4a6fc85e8d3",
   "metadata": {},
   "source": [
    "The plots above show the timecourses of validation accuracy and validation loss. Each curve shows the average across 5 runs under an optimizer type. Thanks to a built-in feature of `seaborn.lineplot()`, each curve also displays ±1 standard deviation around the mean, which gives us a clear sense of the variability in these curves and the significance of the differences among the three optimizer types. This visualization of variability is not yet supported in TensorBoard's GUI.\n",
    "\n",
    "We want to study the hypothesis that the minimum validation loss differs significantly beteen the \"adam\", \"rmsprop\" and \"sgd\" optimizers. So we extract a DataFrame for the minimum validation loss under each of the optimizers.\n",
    "\n",
    "Then we make a boxplot to visualize the difference in the minimum validation losses."
   ]
  },
  {
   "cell_type": "code",
   "execution_count": 15,
   "id": "e89c0639-d64c-4d21-bf6e-b23b09182871",
   "metadata": {},
   "outputs": [
    {
     "data": {
      "image/png": "[encoded data removed]",
      "text/plain": [
       "<Figure size 640x480 with 1 Axes>"
      ]
     },
     "metadata": {},
     "output_type": "display_data"
    }
   ],
   "source": [
    "adam_min_val_loss = df_validation.loc[optimizer_validation==\"adam\", :].groupby(\n",
    "    \"run\", as_index=False).agg({\"epoch_loss\": \"min\"})\n",
    "rmsprop_min_val_loss = df_validation.loc[optimizer_validation==\"rmsprop\", :].groupby(\n",
    "    \"run\", as_index=False).agg({\"epoch_loss\": \"min\"})\n",
    "sgd_min_val_loss = df_validation.loc[optimizer_validation==\"sgd\", :].groupby(\n",
    "    \"run\", as_index=False).agg({\"epoch_loss\": \"min\"})\n",
    "min_val_loss = pd.concat([adam_min_val_loss, rmsprop_min_val_loss, sgd_min_val_loss])\n",
    "\n",
    "sns.boxplot(data=min_val_loss, y=\"epoch_loss\",\n",
    "            x=min_val_loss.run.apply(lambda run: run.split(\",\")[0]))\n",
    "plt.show()"
   ]
  },
  {
   "cell_type": "code",
   "execution_count": 16,
   "id": "3f59528a-41b0-4a82-9025-5aa138d1a40f",
   "metadata": {},
   "outputs": [
    {
     "name": "stdout",
     "output_type": "stream",
     "text": [
      "adam vs. rmsprop: p = 0.0244\n",
      "adam vs. sgd: p = 0.9749\n",
      "rmsprop vs. sgd: p = 0.0135\n"
     ]
    }
   ],
   "source": [
    "# Perform pairwise comparisons between the minimum validation losses\n",
    "# from the three optimizers.\n",
    "_, p_adam_vs_rmsprop = stats.ttest_ind(\n",
    "    adam_min_val_loss[\"epoch_loss\"],\n",
    "    rmsprop_min_val_loss[\"epoch_loss\"]) \n",
    "_, p_adam_vs_sgd = stats.ttest_ind(\n",
    "    adam_min_val_loss[\"epoch_loss\"],\n",
    "    sgd_min_val_loss[\"epoch_loss\"]) \n",
    "_, p_rmsprop_vs_sgd = stats.ttest_ind(\n",
    "    rmsprop_min_val_loss[\"epoch_loss\"],\n",
    "    sgd_min_val_loss[\"epoch_loss\"]) \n",
    "print(\"adam vs. rmsprop: p = %.4f\" % p_adam_vs_rmsprop)\n",
    "print(\"adam vs. sgd: p = %.4f\" % p_adam_vs_sgd)\n",
    "print(\"rmsprop vs. sgd: p = %.4f\" % p_rmsprop_vs_sgd)\n"
   ]
  },
  {
   "cell_type": "markdown",
   "id": "191b5155-35c2-43b8-b864-a68c3c0e54ab",
   "metadata": {},
   "source": [
    "Therefore, at a significance level of 0.05, our analysis confirms our hypothesis that the minimum validation loss is significantly higher (i.e., worse) in the rmsprop optimizer compared to the other two optimizers included in our experiment.\n",
    "\n",
    "In summary, this tutorial provides an example of how to access scalar data as `panda.DataFrames` from TensorBoard.dev. It demonstrates the kind of flexible and powerful analyses and visualization you can do with the `DataFrame`s."
   ]
  }
 ],
 "metadata": {
  "kernelspec": {
   "display_name": "mobia",
   "language": "python",
   "name": "mobia"
  },
  "language_info": {
   "codemirror_mode": {
    "name": "ipython",
    "version": 3
   },
   "file_extension": ".py",
   "mimetype": "text/x-python",
   "name": "python",
   "nbconvert_exporter": "python",
   "pygments_lexer": "ipython3",
   "version": "3.7.13"
  }
 },
 "nbformat": 4,
 "nbformat_minor": 5
}
